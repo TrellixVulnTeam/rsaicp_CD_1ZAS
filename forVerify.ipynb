{
 "metadata": {
  "language_info": {
   "codemirror_mode": {
    "name": "ipython",
    "version": 3
   },
   "file_extension": ".py",
   "mimetype": "text/x-python",
   "name": "python",
   "nbconvert_exporter": "python",
   "pygments_lexer": "ipython3",
   "version": "3.7.10"
  },
  "orig_nbformat": 4,
  "kernelspec": {
   "name": "python3",
   "display_name": "Python 3.7.10 64-bit ('mmlab-cu110': conda)"
  },
  "interpreter": {
   "hash": "b28049a6882f1b8a7e915a2aa52e1234edf04cda286b30c820db76a58a4ad7bf"
  }
 },
 "nbformat": 4,
 "nbformat_minor": 2,
 "cells": [
  {
   "cell_type": "code",
   "execution_count": 7,
   "metadata": {},
   "outputs": [],
   "source": [
    "import cv2\n",
    "import os\n",
    "import os.path as osp\n",
    "import numpy as np\n",
    "import torch"
   ]
  },
  {
   "cell_type": "code",
   "execution_count": 10,
   "metadata": {},
   "outputs": [
    {
     "output_type": "execute_result",
     "data": {
      "text/plain": [
       "(array([9.873e+01, 8.500e-01, 3.900e-01, 4.000e-02]),\n",
       " array([1.01286336e-02, 1.17647059e+00, 2.56410256e+00, 2.50000000e+01]),\n",
       " array([3.52291701e-04, 4.09197173e-02, 8.91839992e-02, 8.69543992e-01]),\n",
       " 1.0)"
      ]
     },
     "metadata": {},
     "execution_count": 10
    }
   ],
   "source": [
    "a = np.array([98.73, 0.85, 0.39, 0.04])\n",
    "b = 1 / a\n",
    "c = b/b.sum()\n",
    "a, b, c, c.sum()"
   ]
  },
  {
   "cell_type": "code",
   "execution_count": 3,
   "metadata": {},
   "outputs": [],
   "source": [
    "a = dict(asd=1, we=2)"
   ]
  },
  {
   "cell_type": "code",
   "execution_count": 6,
   "metadata": {},
   "outputs": [
    {
     "output_type": "execute_result",
     "data": {
      "text/plain": [
       "(1, [])"
      ]
     },
     "metadata": {},
     "execution_count": 6
    }
   ],
   "source": [
    "a.get('asd', []), a.get('sdf', [])"
   ]
  },
  {
   "cell_type": "code",
   "execution_count": 5,
   "metadata": {},
   "outputs": [],
   "source": [
    "path = r'/home/csl/code/rsaicp_CD/data/ade/ADEChallengeData2016/annotations/training/ADE_train_00000011.png'\n",
    "a = cv2.imread(path, -1)"
   ]
  },
  {
   "cell_type": "code",
   "execution_count": 6,
   "metadata": {},
   "outputs": [
    {
     "output_type": "execute_result",
     "data": {
      "text/plain": [
       "(247, 356)"
      ]
     },
     "metadata": {},
     "execution_count": 6
    }
   ],
   "source": [
    "a.shape"
   ]
  }
 ]
}